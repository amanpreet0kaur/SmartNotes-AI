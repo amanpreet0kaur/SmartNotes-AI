{
 "cells": [
  {
   "cell_type": "markdown",
   "id": "7b59efad",
   "metadata": {},
   "source": [
    "The google-cloud-documentai is the official Python client library for Google Cloud Document AI, a service that uses machine learning to automatically extract structured data (like text, form fields, tables, and key-value pairs) from documents such as PDFs, images, and scanned forms."
   ]
  },
  {
   "cell_type": "code",
   "execution_count": 1,
   "id": "732e3cb8",
   "metadata": {},
   "outputs": [
    {
     "name": "stdout",
     "output_type": "stream",
     "text": [
      "Requirement already satisfied: google-cloud-documentai in c:\\users\\amanpreet kaur\\appdata\\local\\programs\\python\\python312\\lib\\site-packages (3.5.0)Note: you may need to restart the kernel to use updated packages.\n"
     ]
    },
    {
     "name": "stderr",
     "output_type": "stream",
     "text": [
      "\n",
      "[notice] A new release of pip is available: 24.2 -> 25.1.1\n",
      "[notice] To update, run: python.exe -m pip install --upgrade pip\n"
     ]
    },
    {
     "name": "stdout",
     "output_type": "stream",
     "text": [
      "\n",
      "Requirement already satisfied: google-api-core!=2.0.*,!=2.1.*,!=2.10.*,!=2.2.*,!=2.3.*,!=2.4.*,!=2.5.*,!=2.6.*,!=2.7.*,!=2.8.*,!=2.9.*,<3.0.0,>=1.34.1 in c:\\users\\amanpreet kaur\\appdata\\local\\programs\\python\\python312\\lib\\site-packages (from google-api-core[grpc]!=2.0.*,!=2.1.*,!=2.10.*,!=2.2.*,!=2.3.*,!=2.4.*,!=2.5.*,!=2.6.*,!=2.7.*,!=2.8.*,!=2.9.*,<3.0.0,>=1.34.1->google-cloud-documentai) (2.25.0)\n",
      "Requirement already satisfied: google-auth!=2.24.0,!=2.25.0,<3.0.0,>=2.14.1 in c:\\users\\amanpreet kaur\\appdata\\local\\programs\\python\\python312\\lib\\site-packages (from google-cloud-documentai) (2.40.2)\n",
      "Requirement already satisfied: proto-plus<2.0.0,>=1.22.3 in c:\\users\\amanpreet kaur\\appdata\\local\\programs\\python\\python312\\lib\\site-packages (from google-cloud-documentai) (1.26.1)\n",
      "Requirement already satisfied: protobuf!=4.21.0,!=4.21.1,!=4.21.2,!=4.21.3,!=4.21.4,!=4.21.5,<7.0.0,>=3.20.2 in c:\\users\\amanpreet kaur\\appdata\\local\\programs\\python\\python312\\lib\\site-packages (from google-cloud-documentai) (6.31.1)\n",
      "Requirement already satisfied: googleapis-common-protos<2.0.0,>=1.56.2 in c:\\users\\amanpreet kaur\\appdata\\local\\programs\\python\\python312\\lib\\site-packages (from google-api-core!=2.0.*,!=2.1.*,!=2.10.*,!=2.2.*,!=2.3.*,!=2.4.*,!=2.5.*,!=2.6.*,!=2.7.*,!=2.8.*,!=2.9.*,<3.0.0,>=1.34.1->google-api-core[grpc]!=2.0.*,!=2.1.*,!=2.10.*,!=2.2.*,!=2.3.*,!=2.4.*,!=2.5.*,!=2.6.*,!=2.7.*,!=2.8.*,!=2.9.*,<3.0.0,>=1.34.1->google-cloud-documentai) (1.70.0)\n",
      "Requirement already satisfied: requests<3.0.0,>=2.18.0 in c:\\users\\amanpreet kaur\\appdata\\local\\programs\\python\\python312\\lib\\site-packages (from google-api-core!=2.0.*,!=2.1.*,!=2.10.*,!=2.2.*,!=2.3.*,!=2.4.*,!=2.5.*,!=2.6.*,!=2.7.*,!=2.8.*,!=2.9.*,<3.0.0,>=1.34.1->google-api-core[grpc]!=2.0.*,!=2.1.*,!=2.10.*,!=2.2.*,!=2.3.*,!=2.4.*,!=2.5.*,!=2.6.*,!=2.7.*,!=2.8.*,!=2.9.*,<3.0.0,>=1.34.1->google-cloud-documentai) (2.32.3)\n",
      "Requirement already satisfied: grpcio<2.0.0,>=1.33.2 in c:\\users\\amanpreet kaur\\appdata\\local\\programs\\python\\python312\\lib\\site-packages (from google-api-core[grpc]!=2.0.*,!=2.1.*,!=2.10.*,!=2.2.*,!=2.3.*,!=2.4.*,!=2.5.*,!=2.6.*,!=2.7.*,!=2.8.*,!=2.9.*,<3.0.0,>=1.34.1->google-cloud-documentai) (1.72.1)\n",
      "Requirement already satisfied: grpcio-status<2.0.0,>=1.33.2 in c:\\users\\amanpreet kaur\\appdata\\local\\programs\\python\\python312\\lib\\site-packages (from google-api-core[grpc]!=2.0.*,!=2.1.*,!=2.10.*,!=2.2.*,!=2.3.*,!=2.4.*,!=2.5.*,!=2.6.*,!=2.7.*,!=2.8.*,!=2.9.*,<3.0.0,>=1.34.1->google-cloud-documentai) (1.72.1)\n",
      "Requirement already satisfied: cachetools<6.0,>=2.0.0 in c:\\users\\amanpreet kaur\\appdata\\local\\programs\\python\\python312\\lib\\site-packages (from google-auth!=2.24.0,!=2.25.0,<3.0.0,>=2.14.1->google-cloud-documentai) (5.5.0)\n",
      "Requirement already satisfied: pyasn1-modules>=0.2.1 in c:\\users\\amanpreet kaur\\appdata\\local\\programs\\python\\python312\\lib\\site-packages (from google-auth!=2.24.0,!=2.25.0,<3.0.0,>=2.14.1->google-cloud-documentai) (0.4.2)\n",
      "Requirement already satisfied: rsa<5,>=3.1.4 in c:\\users\\amanpreet kaur\\appdata\\local\\programs\\python\\python312\\lib\\site-packages (from google-auth!=2.24.0,!=2.25.0,<3.0.0,>=2.14.1->google-cloud-documentai) (4.9.1)\n",
      "Requirement already satisfied: pyasn1<0.7.0,>=0.6.1 in c:\\users\\amanpreet kaur\\appdata\\local\\programs\\python\\python312\\lib\\site-packages (from pyasn1-modules>=0.2.1->google-auth!=2.24.0,!=2.25.0,<3.0.0,>=2.14.1->google-cloud-documentai) (0.6.1)\n",
      "Requirement already satisfied: charset-normalizer<4,>=2 in c:\\users\\amanpreet kaur\\appdata\\local\\programs\\python\\python312\\lib\\site-packages (from requests<3.0.0,>=2.18.0->google-api-core!=2.0.*,!=2.1.*,!=2.10.*,!=2.2.*,!=2.3.*,!=2.4.*,!=2.5.*,!=2.6.*,!=2.7.*,!=2.8.*,!=2.9.*,<3.0.0,>=1.34.1->google-api-core[grpc]!=2.0.*,!=2.1.*,!=2.10.*,!=2.2.*,!=2.3.*,!=2.4.*,!=2.5.*,!=2.6.*,!=2.7.*,!=2.8.*,!=2.9.*,<3.0.0,>=1.34.1->google-cloud-documentai) (3.4.0)\n",
      "Requirement already satisfied: idna<4,>=2.5 in c:\\users\\amanpreet kaur\\appdata\\local\\programs\\python\\python312\\lib\\site-packages (from requests<3.0.0,>=2.18.0->google-api-core!=2.0.*,!=2.1.*,!=2.10.*,!=2.2.*,!=2.3.*,!=2.4.*,!=2.5.*,!=2.6.*,!=2.7.*,!=2.8.*,!=2.9.*,<3.0.0,>=1.34.1->google-api-core[grpc]!=2.0.*,!=2.1.*,!=2.10.*,!=2.2.*,!=2.3.*,!=2.4.*,!=2.5.*,!=2.6.*,!=2.7.*,!=2.8.*,!=2.9.*,<3.0.0,>=1.34.1->google-cloud-documentai) (3.10)\n",
      "Requirement already satisfied: urllib3<3,>=1.21.1 in c:\\users\\amanpreet kaur\\appdata\\local\\programs\\python\\python312\\lib\\site-packages (from requests<3.0.0,>=2.18.0->google-api-core!=2.0.*,!=2.1.*,!=2.10.*,!=2.2.*,!=2.3.*,!=2.4.*,!=2.5.*,!=2.6.*,!=2.7.*,!=2.8.*,!=2.9.*,<3.0.0,>=1.34.1->google-api-core[grpc]!=2.0.*,!=2.1.*,!=2.10.*,!=2.2.*,!=2.3.*,!=2.4.*,!=2.5.*,!=2.6.*,!=2.7.*,!=2.8.*,!=2.9.*,<3.0.0,>=1.34.1->google-cloud-documentai) (2.2.3)\n",
      "Requirement already satisfied: certifi>=2017.4.17 in c:\\users\\amanpreet kaur\\appdata\\local\\programs\\python\\python312\\lib\\site-packages (from requests<3.0.0,>=2.18.0->google-api-core!=2.0.*,!=2.1.*,!=2.10.*,!=2.2.*,!=2.3.*,!=2.4.*,!=2.5.*,!=2.6.*,!=2.7.*,!=2.8.*,!=2.9.*,<3.0.0,>=1.34.1->google-api-core[grpc]!=2.0.*,!=2.1.*,!=2.10.*,!=2.2.*,!=2.3.*,!=2.4.*,!=2.5.*,!=2.6.*,!=2.7.*,!=2.8.*,!=2.9.*,<3.0.0,>=1.34.1->google-cloud-documentai) (2024.8.30)\n"
     ]
    }
   ],
   "source": [
    "pip install --upgrade google-cloud-documentai"
   ]
  },
  {
   "cell_type": "markdown",
   "id": "401605a5",
   "metadata": {},
   "source": [
    "# installing google.cloud"
   ]
  },
  {
   "cell_type": "code",
   "execution_count": 2,
   "id": "9f676611",
   "metadata": {},
   "outputs": [
    {
     "name": "stdout",
     "output_type": "stream",
     "text": [
      "Requirement already satisfied: google.cloud in c:\\users\\amanpreet kaur\\appdata\\local\\programs\\python\\python312\\lib\\site-packages (0.34.0)\n",
      "Note: you may need to restart the kernel to use updated packages.\n"
     ]
    },
    {
     "name": "stderr",
     "output_type": "stream",
     "text": [
      "\n",
      "[notice] A new release of pip is available: 24.2 -> 25.1.1\n",
      "[notice] To update, run: python.exe -m pip install --upgrade pip\n"
     ]
    }
   ],
   "source": [
    "pip install google.cloud"
   ]
  },
  {
   "cell_type": "markdown",
   "id": "2bc6c1f9",
   "metadata": {},
   "source": [
    "This installs the Google Cloud Document AI Python client along with all optional dependencies needed for extended functionality.\n",
    "\n",
    "Includes:\n",
    "google-cloud-documentai — main client library\n",
    "\n",
    "proto-plus — for protocol buffer support\n",
    "\n",
    "google-api-core, grpc — for API communication\n",
    "\n",
    "google-auth, requests — for authentication and HTTP support\n",
    "\n",
    "PDF/Image support: Installs additional dependencies for processing local documents.\n",
    "\n"
   ]
  },
  {
   "cell_type": "code",
   "execution_count": 3,
   "id": "80881ff6",
   "metadata": {},
   "outputs": [
    {
     "name": "stdout",
     "output_type": "stream",
     "text": [
      "Requirement already satisfied: google-cloud-documentai[all] in c:\\users\\amanpreet kaur\\appdata\\local\\programs\\python\\python312\\lib\\site-packages (3.5.0)\n",
      "Requirement already satisfied: google-api-core!=2.0.*,!=2.1.*,!=2.10.*,!=2.2.*,!=2.3.*,!=2.4.*,!=2.5.*,!=2.6.*,!=2.7.*,!=2.8.*,!=2.9.*,<3.0.0,>=1.34.1 in c:\\users\\amanpreet kaur\\appdata\\local\\programs\\python\\python312\\lib\\site-packages (from google-api-core[grpc]!=2.0.*,!=2.1.*,!=2.10.*,!=2.2.*,!=2.3.*,!=2.4.*,!=2.5.*,!=2.6.*,!=2.7.*,!=2.8.*,!=2.9.*,<3.0.0,>=1.34.1->google-cloud-documentai[all]) (2.25.0)\n",
      "Requirement already satisfied: google-auth!=2.24.0,!=2.25.0,<3.0.0,>=2.14.1 in c:\\users\\amanpreet kaur\\appdata\\local\\programs\\python\\python312\\lib\\site-packages (from google-cloud-documentai[all]) (2.40.2)\n",
      "Requirement already satisfied: proto-plus<2.0.0,>=1.22.3 in c:\\users\\amanpreet kaur\\appdata\\local\\programs\\python\\python312\\lib\\site-packages (from google-cloud-documentai[all]) (1.26.1)\n",
      "Requirement already satisfied: protobuf!=4.21.0,!=4.21.1,!=4.21.2,!=4.21.3,!=4.21.4,!=4.21.5,<7.0.0,>=3.20.2 in c:\\users\\amanpreet kaur\\appdata\\local\\programs\\python\\python312\\lib\\site-packages (from google-cloud-documentai[all]) (6.31.1)\n",
      "Requirement already satisfied: googleapis-common-protos<2.0.0,>=1.56.2 in c:\\users\\amanpreet kaur\\appdata\\local\\programs\\python\\python312\\lib\\site-packages (from google-api-core!=2.0.*,!=2.1.*,!=2.10.*,!=2.2.*,!=2.3.*,!=2.4.*,!=2.5.*,!=2.6.*,!=2.7.*,!=2.8.*,!=2.9.*,<3.0.0,>=1.34.1->google-api-core[grpc]!=2.0.*,!=2.1.*,!=2.10.*,!=2.2.*,!=2.3.*,!=2.4.*,!=2.5.*,!=2.6.*,!=2.7.*,!=2.8.*,!=2.9.*,<3.0.0,>=1.34.1->google-cloud-documentai[all]) (1.70.0)\n",
      "Requirement already satisfied: requests<3.0.0,>=2.18.0 in c:\\users\\amanpreet kaur\\appdata\\local\\programs\\python\\python312\\lib\\site-packages (from google-api-core!=2.0.*,!=2.1.*,!=2.10.*,!=2.2.*,!=2.3.*,!=2.4.*,!=2.5.*,!=2.6.*,!=2.7.*,!=2.8.*,!=2.9.*,<3.0.0,>=1.34.1->google-api-core[grpc]!=2.0.*,!=2.1.*,!=2.10.*,!=2.2.*,!=2.3.*,!=2.4.*,!=2.5.*,!=2.6.*,!=2.7.*,!=2.8.*,!=2.9.*,<3.0.0,>=1.34.1->google-cloud-documentai[all]) (2.32.3)\n",
      "Requirement already satisfied: grpcio<2.0.0,>=1.33.2 in c:\\users\\amanpreet kaur\\appdata\\local\\programs\\python\\python312\\lib\\site-packages (from google-api-core[grpc]!=2.0.*,!=2.1.*,!=2.10.*,!=2.2.*,!=2.3.*,!=2.4.*,!=2.5.*,!=2.6.*,!=2.7.*,!=2.8.*,!=2.9.*,<3.0.0,>=1.34.1->google-cloud-documentai[all]) (1.72.1)\n",
      "Requirement already satisfied: grpcio-status<2.0.0,>=1.33.2 in c:\\users\\amanpreet kaur\\appdata\\local\\programs\\python\\python312\\lib\\site-packages (from google-api-core[grpc]!=2.0.*,!=2.1.*,!=2.10.*,!=2.2.*,!=2.3.*,!=2.4.*,!=2.5.*,!=2.6.*,!=2.7.*,!=2.8.*,!=2.9.*,<3.0.0,>=1.34.1->google-cloud-documentai[all]) (1.72.1)\n",
      "Requirement already satisfied: cachetools<6.0,>=2.0.0 in c:\\users\\amanpreet kaur\\appdata\\local\\programs\\python\\python312\\lib\\site-packages (from google-auth!=2.24.0,!=2.25.0,<3.0.0,>=2.14.1->google-cloud-documentai[all]) (5.5.0)\n",
      "Requirement already satisfied: pyasn1-modules>=0.2.1 in c:\\users\\amanpreet kaur\\appdata\\local\\programs\\python\\python312\\lib\\site-packages (from google-auth!=2.24.0,!=2.25.0,<3.0.0,>=2.14.1->google-cloud-documentai[all]) (0.4.2)\n",
      "Requirement already satisfied: rsa<5,>=3.1.4 in c:\\users\\amanpreet kaur\\appdata\\local\\programs\\python\\python312\\lib\\site-packages (from google-auth!=2.24.0,!=2.25.0,<3.0.0,>=2.14.1->google-cloud-documentai[all]) (4.9.1)\n",
      "Requirement already satisfied: pyasn1<0.7.0,>=0.6.1 in c:\\users\\amanpreet kaur\\appdata\\local\\programs\\python\\python312\\lib\\site-packages (from pyasn1-modules>=0.2.1->google-auth!=2.24.0,!=2.25.0,<3.0.0,>=2.14.1->google-cloud-documentai[all]) (0.6.1)\n",
      "Requirement already satisfied: charset-normalizer<4,>=2 in c:\\users\\amanpreet kaur\\appdata\\local\\programs\\python\\python312\\lib\\site-packages (from requests<3.0.0,>=2.18.0->google-api-core!=2.0.*,!=2.1.*,!=2.10.*,!=2.2.*,!=2.3.*,!=2.4.*,!=2.5.*,!=2.6.*,!=2.7.*,!=2.8.*,!=2.9.*,<3.0.0,>=1.34.1->google-api-core[grpc]!=2.0.*,!=2.1.*,!=2.10.*,!=2.2.*,!=2.3.*,!=2.4.*,!=2.5.*,!=2.6.*,!=2.7.*,!=2.8.*,!=2.9.*,<3.0.0,>=1.34.1->google-cloud-documentai[all]) (3.4.0)\n",
      "Requirement already satisfied: idna<4,>=2.5 in c:\\users\\amanpreet kaur\\appdata\\local\\programs\\python\\python312\\lib\\site-packages (from requests<3.0.0,>=2.18.0->google-api-core!=2.0.*,!=2.1.*,!=2.10.*,!=2.2.*,!=2.3.*,!=2.4.*,!=2.5.*,!=2.6.*,!=2.7.*,!=2.8.*,!=2.9.*,<3.0.0,>=1.34.1->google-api-core[grpc]!=2.0.*,!=2.1.*,!=2.10.*,!=2.2.*,!=2.3.*,!=2.4.*,!=2.5.*,!=2.6.*,!=2.7.*,!=2.8.*,!=2.9.*,<3.0.0,>=1.34.1->google-cloud-documentai[all]) (3.10)\n",
      "Requirement already satisfied: urllib3<3,>=1.21.1 in c:\\users\\amanpreet kaur\\appdata\\local\\programs\\python\\python312\\lib\\site-packages (from requests<3.0.0,>=2.18.0->google-api-core!=2.0.*,!=2.1.*,!=2.10.*,!=2.2.*,!=2.3.*,!=2.4.*,!=2.5.*,!=2.6.*,!=2.7.*,!=2.8.*,!=2.9.*,<3.0.0,>=1.34.1->google-api-core[grpc]!=2.0.*,!=2.1.*,!=2.10.*,!=2.2.*,!=2.3.*,!=2.4.*,!=2.5.*,!=2.6.*,!=2.7.*,!=2.8.*,!=2.9.*,<3.0.0,>=1.34.1->google-cloud-documentai[all]) (2.2.3)\n",
      "Requirement already satisfied: certifi>=2017.4.17 in c:\\users\\amanpreet kaur\\appdata\\local\\programs\\python\\python312\\lib\\site-packages (from requests<3.0.0,>=2.18.0->google-api-core!=2.0.*,!=2.1.*,!=2.10.*,!=2.2.*,!=2.3.*,!=2.4.*,!=2.5.*,!=2.6.*,!=2.7.*,!=2.8.*,!=2.9.*,<3.0.0,>=1.34.1->google-api-core[grpc]!=2.0.*,!=2.1.*,!=2.10.*,!=2.2.*,!=2.3.*,!=2.4.*,!=2.5.*,!=2.6.*,!=2.7.*,!=2.8.*,!=2.9.*,<3.0.0,>=1.34.1->google-cloud-documentai[all]) (2024.8.30)\n",
      "Note: you may need to restart the kernel to use updated packages.\n"
     ]
    },
    {
     "name": "stderr",
     "output_type": "stream",
     "text": [
      "WARNING: google-cloud-documentai 3.5.0 does not provide the extra 'all'\n",
      "\n",
      "[notice] A new release of pip is available: 24.2 -> 25.1.1\n",
      "[notice] To update, run: python.exe -m pip install --upgrade pip\n"
     ]
    }
   ],
   "source": [
    "pip install \"google-cloud-documentai[all]\"\n"
   ]
  },
  {
   "cell_type": "markdown",
   "id": "e3274134",
   "metadata": {},
   "source": [
    "# Accessing google document ai api "
   ]
  },
  {
   "cell_type": "markdown",
   "id": "76b20e55",
   "metadata": {},
   "source": [
    "1. Crreate project\n",
    "2. create a document ai processor in the project\n",
    "3. get the json file of project \n",
    "4. authenticate and login\n",
    "5. enable api\n",
    "install and initialize cloud cli The gcloud CLI provides a set of tools that you can use to manage resources and applications hosted on Google Cloud."
   ]
  },
  {
   "cell_type": "code",
   "execution_count": null,
   "id": "5f632a45",
   "metadata": {},
   "outputs": [],
   "source": [
    "\n",
    "\n",
    "from google.api_core.client_options import ClientOptions\n",
    "from google.cloud import documentai_v1\n",
    "\n",
    "project_id = \"wise-env-461717-t5\"\n",
    "\n",
    "processor_id = \"86a7eec52bbb9616\" \n",
    "\n",
    "location = \"us\""
   ]
  },
  {
   "cell_type": "code",
   "execution_count": null,
   "id": "e9aac3b9",
   "metadata": {},
   "outputs": [
    {
     "name": "stdout",
     "output_type": "stream",
     "text": [
      "Processor Name: projects/194546811894/locations/us/processors/86a7eec52bbb9616\n",
      "The document contains the following text:\n",
      "System that\n",
      "Es a collection\n",
      "act or\n",
      "accomplishment of\n",
      "Collection\n",
      "of\n",
      "Study\n",
      "State\n",
      "untities\n",
      "interact\n",
      "might only\n",
      "to of system\n",
      "ndative\n",
      "some\n",
      "that\n",
      "be\n",
      "of\n",
      "collection\n",
      "is\n",
      "describe\n",
      "a\n",
      "to\n",
      "objectives\n",
      "Systen\n",
      "entities\n",
      "together\n",
      "of people or machines\n",
      "towards\n",
      "Logical end.\n",
      "the\n",
      "compruse entire system in one\n",
      "a Subset\n",
      "of\n",
      "another.\n",
      "variables required\n",
      "particular time\n",
      "at a\n",
      "systems\n",
      "of study.\n",
      "discrete\n",
      "State\n",
      "of\n",
      "variables\n",
      "changes\n",
      "at\n",
      "of\n",
      "instantaneously\n",
      "separated pts\n",
      "time.\n",
      "Analytical\n",
      "State\n",
      "Continuous\n",
      "change\n",
      "of\n",
      "Wat\n",
      "variables\n",
      "continuously\n",
      "to time.\n",
      "the\n",
      "Model\n",
      "of\n",
      "to\n",
      "work\n",
      "to get\n",
      "Some\n",
      "We\n",
      "solutions US\n",
      "is\n",
      "simple\n",
      "then\n",
      "with\n",
      "its\n",
      "the\n",
      "Exact\n",
      "d = rt\n",
      "can get\n",
      "Simulation\n",
      "it may be\n",
      "relationships\n",
      "tical\n",
      "сполу\n",
      "distance\n",
      "velocity\n",
      "time\n",
      "Solutions\n",
      "analytical requires\n",
      "complex analytical\n",
      "→ inverting\n",
      "of analytical sol\n",
      "efficient\n",
      "vast\n",
      "possible\n",
      "and quantities\n",
      "socuts of\n",
      "is known\n",
      "also\n",
      "+=\n",
      "2/4.\n",
      "cau\n",
      "become\n",
      "very\n",
      "computing\n",
      "large matrix\n",
      "available and\n",
      "Can be used.\n",
      "For complex\n",
      "-\n",
      "• Simulation is\n",
      "0\n",
      "•\n",
      "is computationally\n",
      "used.\n",
      "Static\n",
      "US\n",
      "A\n",
      "static\n",
      "dynamic\n",
      "simulation\n",
      "a\n",
      "Model\n",
      "at\n",
      "a\n",
      "one\n",
      "that is\n",
      "output\n",
      "used to repres\n",
      "which time simply plays\n",
      "Dynamic\n",
      "Deterministic\n",
      "evolves\n",
      "over\n",
      "time\n",
      "and Stochastic\n",
      "No randan\n",
      "quantities\n",
      "Model\n",
      "time\n",
      "is a\n",
      "representation of\n",
      "or\n",
      "eut\n",
      "a\n",
      "system in\n",
      "по\n",
      "role\n",
      "components\n",
      "is\n",
      "determined once\n",
      "and\n",
      "have\n",
      "been\n",
      "Stochastic\n",
      "simulation\n",
      "that is\n",
      "random\n",
      "→ deterministic\n",
      "set of input\n",
      "relationships in\n",
      "specified.\n",
      "Stself\n",
      "the\n",
      "Model\n",
      "modes produce\n",
      "output\n",
      "time\n",
      "discrete VS\n",
      "Discrete\n",
      "a\n",
      "system\n",
      "representation\n",
      "change\n",
      "ntaneously\n",
      "continuous\n",
      "event\n",
      "Simulatt on\n",
      "as\n",
      "it\n",
      "concerns\n",
      "evolves\n",
      "in\n",
      "which\n",
      "instantan\n",
      "at\n",
      "the modeling of by\n",
      "over\n",
      "the state\n",
      "variables\n",
      "separate points in\n",
      "Points\n",
      "are\n",
      "when\n",
      "event\n",
      "оссинь\n",
      "instaneous\n",
      "State\n",
      "сссияси СС\n",
      "that\n",
      "may change\n",
      "of system\n",
      "-\n",
      "variables change continuously wat time.\n",
      "differential eqs\n",
      "of change\n",
      "to\n",
      "give relations\n",
      "Continous\n",
      "-\n",
      "Continuous\n",
      "for\n",
      "state\n",
      "rates\n",
      "\n"
     ]
    }
   ],
   "source": [
    "\n",
    "\n",
    "# Path for file to process.\n",
    "file_path =r\"C:\\Users\\AMANPREET KAUR\\OneDrive\\Desktop\\study\\Model.pdf\"\n",
    "\n",
    "# Set `api_endpoint` if you use a location other than \"us\".\n",
    "opts = ClientOptions(api_endpoint=f\"{location}-documentai.googleapis.com\")\n",
    "\n",
    "# Initialize Document AI client.\n",
    "client = documentai_v1.DocumentProcessorServiceClient(client_options=opts)\n",
    "\n",
    "# Get the Fully-qualified Processor path.\n",
    "full_processor_name = client.processor_path(project_id, location, processor_id)\n",
    "\n",
    "# Get a Processor reference.\n",
    "request = documentai_v1.GetProcessorRequest(name=full_processor_name)\n",
    "processor = client.get_processor(request=request)\n",
    "\n",
    "# `processor.name` is the full resource name of the processor.\n",
    "# For example: `projects/{project_id}/locations/{location}/processors/{processor_id}`\n",
    "print(f\"Processor Name: {processor.name}\")\n",
    "\n",
    "# Read the file into memory.\n",
    "with open(file_path, \"rb\") as image:\n",
    "    image_content = image.read()\n",
    "#Opens the PDF file in binary mode and reads its contents.\n",
    "\n",
    "# Load binary data.\n",
    "\n",
    "raw_document = documentai_v1.RawDocument(\n",
    "    content=image_content,\n",
    "    mime_type=\"application/pdf\",\n",
    ")\n",
    "\n",
    "# Send a request and get the processed document.\n",
    "request = documentai_v1.ProcessRequest(name=processor.name, raw_document=raw_document)\n",
    "result = client.process_document(request=request)\n",
    "document = result.document\n",
    "\n",
    "# Read the text recognition output from the processor.\n",
    "# For a full list of `Document` object attributes, reference this page:\n",
    "# https://cloud.google.com/document-ai/docs/reference/rest/v1/Document\n",
    "print(\"The document contains the following text:\")\n",
    "print(document.text)"
   ]
  },
  {
   "cell_type": "markdown",
   "id": "5ee4c80c",
   "metadata": {},
   "source": [
    "# Chunk the data create embeddings"
   ]
  },
  {
   "cell_type": "code",
   "execution_count": 5,
   "id": "08386cee",
   "metadata": {},
   "outputs": [
    {
     "ename": "AttributeError",
     "evalue": "'MessageFactory' object has no attribute 'GetPrototype'",
     "output_type": "error",
     "traceback": [
      "\u001b[1;31m---------------------------------------------------------------------------\u001b[0m",
      "\u001b[1;31mAttributeError\u001b[0m                            Traceback (most recent call last)",
      "\u001b[1;31mAttributeError\u001b[0m: 'MessageFactory' object has no attribute 'GetPrototype'"
     ]
    },
    {
     "ename": "AttributeError",
     "evalue": "'MessageFactory' object has no attribute 'GetPrototype'",
     "output_type": "error",
     "traceback": [
      "\u001b[1;31m---------------------------------------------------------------------------\u001b[0m",
      "\u001b[1;31mAttributeError\u001b[0m                            Traceback (most recent call last)",
      "\u001b[1;31mAttributeError\u001b[0m: 'MessageFactory' object has no attribute 'GetPrototype'"
     ]
    },
    {
     "ename": "AttributeError",
     "evalue": "'MessageFactory' object has no attribute 'GetPrototype'",
     "output_type": "error",
     "traceback": [
      "\u001b[1;31m---------------------------------------------------------------------------\u001b[0m",
      "\u001b[1;31mAttributeError\u001b[0m                            Traceback (most recent call last)",
      "\u001b[1;31mAttributeError\u001b[0m: 'MessageFactory' object has no attribute 'GetPrototype'"
     ]
    },
    {
     "ename": "AttributeError",
     "evalue": "'MessageFactory' object has no attribute 'GetPrototype'",
     "output_type": "error",
     "traceback": [
      "\u001b[1;31m---------------------------------------------------------------------------\u001b[0m",
      "\u001b[1;31mAttributeError\u001b[0m                            Traceback (most recent call last)",
      "\u001b[1;31mAttributeError\u001b[0m: 'MessageFactory' object has no attribute 'GetPrototype'"
     ]
    },
    {
     "ename": "AttributeError",
     "evalue": "'MessageFactory' object has no attribute 'GetPrototype'",
     "output_type": "error",
     "traceback": [
      "\u001b[1;31m---------------------------------------------------------------------------\u001b[0m",
      "\u001b[1;31mAttributeError\u001b[0m                            Traceback (most recent call last)",
      "\u001b[1;31mAttributeError\u001b[0m: 'MessageFactory' object has no attribute 'GetPrototype'"
     ]
    },
    {
     "name": "stdout",
     "output_type": "stream",
     "text": [
      "WARNING:tensorflow:From c:\\Users\\AMANPREET KAUR\\AppData\\Local\\Programs\\Python\\Python312\\Lib\\site-packages\\tf_keras\\src\\losses.py:2976: The name tf.losses.sparse_softmax_cross_entropy is deprecated. Please use tf.compat.v1.losses.sparse_softmax_cross_entropy instead.\n",
      "\n"
     ]
    }
   ],
   "source": [
    "from google.cloud import documentai_v1\n",
    "from sentence_transformers import SentenceTransformer\n",
    "import faiss\n",
    "import numpy as np\n",
    "import textwrap\n",
    "\n",
    "\n",
    "# Step 2: Chunk the text\n",
    "def chunk_text(text, max_chars=500):\n",
    "    return textwrap.wrap(text, max_chars)\n",
    "\n",
    "text_chunks = chunk_text(document.text)\n",
    "\n",
    "# Step 3: Create embeddings for each chunk\n",
    "embed_model = SentenceTransformer(\"all-MiniLM-L6-v2\")\n",
    "embeddings = embed_model.encode(text_chunks)\n",
    "\n",
    "# Step 4: Create and populate FAISS index\n",
    "dim = embeddings.shape[1]\n",
    "index = faiss.IndexFlatL2(dim)\n",
    "index.add(np.array(embeddings))\n",
    "faiss.write_index(index, \"faiss_index.index\")\n",
    "import pickle\n",
    "\n",
    "with open(\"text_chunks.pkl\", \"wb\") as f:\n",
    "    pickle.dump(text_chunks, f)\n",
    "\n",
    "\n",
    "\n"
   ]
  },
  {
   "cell_type": "code",
   "execution_count": 6,
   "id": "43891d9c",
   "metadata": {},
   "outputs": [],
   "source": [
    "import requests\n",
    "\n",
    "def ask_groq_agent(query, context):\n",
    "    prompt = f\"Context:\\n{context}\\n\\nQuestion: {query}\\nAnswer:\"\n",
    "    response = requests.post(\n",
    "        \"https://api.groq.com/openai/v1/chat/completions\",\n",
    "        headers={\"Authorization\": f\"Bearer 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\"},\n",
    "        json={\n",
    "            \"model\": \"llama3-70b-8192\",\n",
    "            \"messages\": [{\"role\": \"user\", \"content\": prompt}],\n",
    "            \"temperature\": 0.3\n",
    "        }\n",
    "    )\n",
    "    return response.json()[\"choices\"][0][\"message\"][\"content\"]\n"
   ]
  },
  {
   "cell_type": "code",
   "execution_count": 7,
   "id": "39a69392",
   "metadata": {},
   "outputs": [],
   "source": [
    "def retrieve_context(query, top_k=5):\n",
    "    query_embed = embed_model.encode([query])\n",
    "    distances, indices = index.search(np.array(query_embed), top_k)\n",
    "    return [text_chunks[i] for i in indices[0]]\n"
   ]
  },
  {
   "cell_type": "code",
   "execution_count": 8,
   "id": "dd1293e7",
   "metadata": {},
   "outputs": [],
   "source": [
    "def qa_agent(question):\n",
    "    retrieved_chunks = retrieve_context(question)\n",
    "    context = \"\\n\\n\".join(retrieved_chunks)\n",
    "    return ask_groq_agent(question, context)\n"
   ]
  },
  {
   "cell_type": "code",
   "execution_count": 9,
   "id": "06359bfd",
   "metadata": {},
   "outputs": [
    {
     "name": "stdout",
     "output_type": "stream",
     "text": [
      "Based on the provided context, a system can be defined as:\n",
      "\n",
      "\"A collection of entities, including people or machines, that interact together towards a logical end, comprising a set of variables that change over time, either continuously or discretely, and can be modeled using analytical, simulation, or static approaches to understand its behavior and evolution.\"\n"
     ]
    }
   ],
   "source": [
    "question = \"What is the system\"\n",
    "answer = qa_agent(question)\n",
    "print(answer)\n"
   ]
  },
  {
   "cell_type": "markdown",
   "id": "a9783b19",
   "metadata": {},
   "source": [
    "import os\n",
    "GROQ_API_KEY = os.getenv(\"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\")\n"
   ]
  },
  {
   "cell_type": "code",
   "execution_count": 10,
   "id": "032a4086",
   "metadata": {},
   "outputs": [],
   "source": [
    "import os\n",
    "GROQ_API_KEY = os.getenv(\"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\")\n"
   ]
  }
 ],
 "metadata": {
  "kernelspec": {
   "display_name": "Python 3",
   "language": "python",
   "name": "python3"
  },
  "language_info": {
   "codemirror_mode": {
    "name": "ipython",
    "version": 3
   },
   "file_extension": ".py",
   "mimetype": "text/x-python",
   "name": "python",
   "nbconvert_exporter": "python",
   "pygments_lexer": "ipython3",
   "version": "3.12.5"
  }
 },
 "nbformat": 4,
 "nbformat_minor": 5
}
